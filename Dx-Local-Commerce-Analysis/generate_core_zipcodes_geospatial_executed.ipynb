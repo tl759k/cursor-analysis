{
 "cells": [
  {
   "cell_type": "markdown",
   "metadata": {},
   "source": [
    "# Core Zipcodes by Municipal Boundary (TIGER/Line + ZCTA)\n",
    "\n",
    "This notebook produces core ZIP codes (ZCTAs) whose centroids fall strictly within each city's municipal boundary using US Census TIGER/Line Place polygons and ZCTA polygons.\n",
    "\n",
    "- Input: `top_100_cities.csv`\n",
    "- Output: `top_100_cities_core_zipcodes.csv` (ZIPCODES column added)\n",
    "- Method: Spatial join of ZCTA centroids within Place polygons (incorporated/consolidated places)\n"
   ]
  },
  {
   "cell_type": "code",
   "execution_count": 1,
   "metadata": {
    "execution": {
     "iopub.execute_input": "2025-09-27T02:27:01.113389Z",
     "iopub.status.busy": "2025-09-27T02:27:01.113297Z",
     "iopub.status.idle": "2025-09-27T02:27:01.810032Z",
     "shell.execute_reply": "2025-09-27T02:27:01.809791Z"
    }
   },
   "outputs": [
    {
     "name": "stdout",
     "output_type": "stream",
     "text": [
      "Env ready\n"
     ]
    }
   ],
   "source": [
    "import os\n",
    "import pandas as pd\n",
    "import geopandas as gpd\n",
    "from shapely.geometry import Point\n",
    "from shapely.ops import unary_union\n",
    "from tqdm import tqdm\n",
    "\n",
    "DATA_DIR = 'data_tiger'\n",
    "os.makedirs(DATA_DIR, exist_ok=True)\n",
    "\n",
    "print('Env ready')\n"
   ]
  },
  {
   "cell_type": "code",
   "execution_count": 2,
   "metadata": {
    "execution": {
     "iopub.execute_input": "2025-09-27T02:27:01.827059Z",
     "iopub.status.busy": "2025-09-27T02:27:01.826921Z",
     "iopub.status.idle": "2025-09-27T02:27:01.833824Z",
     "shell.execute_reply": "2025-09-27T02:27:01.833618Z"
    }
   },
   "outputs": [
    {
     "name": "stdout",
     "output_type": "stream",
     "text": [
      "        CITY_STATE         CITY STATE  POPULATION  CITY_RANK    CITY_NORM  \\\n",
      "0     New York, NY     New York    NY     8258035          1     NEW YORK   \n",
      "1  Los Angeles, CA  Los Angeles    CA     3820914          2  LOS ANGELES   \n",
      "2      Chicago, IL      Chicago    IL     2664452          3      CHICAGO   \n",
      "\n",
      "  STATE_NORM  \n",
      "0         NY  \n",
      "1         CA  \n",
      "2         IL  \n"
     ]
    }
   ],
   "source": [
    "# Load cities list\n",
    "cities = pd.read_csv('top_100_cities.csv')\n",
    "# Normalize\n",
    "cities['CITY_NORM'] = cities['CITY'].str.upper().str.replace('\\.', '', regex=False).str.strip()\n",
    "cities['STATE_NORM'] = cities['STATE'].str.upper().str.strip()\n",
    "print(cities.head(3))\n"
   ]
  },
  {
   "cell_type": "code",
   "execution_count": 3,
   "metadata": {
    "execution": {
     "iopub.execute_input": "2025-09-27T02:27:01.834920Z",
     "iopub.status.busy": "2025-09-27T02:27:01.834839Z",
     "iopub.status.idle": "2025-09-27T02:27:02.190793Z",
     "shell.execute_reply": "2025-09-27T02:27:02.190570Z"
    }
   },
   "outputs": [
    {
     "name": "stdout",
     "output_type": "stream",
     "text": [
      "Exists data_tiger/cb_2023_us_place_500k.zip\n",
      "Exists data_tiger/cb_2020_us_zcta520_500k.zip\n"
     ]
    },
    {
     "name": "stdout",
     "output_type": "stream",
     "text": [
      "Unzipped\n"
     ]
    }
   ],
   "source": [
    "# Download Census cartographic boundary shapefiles (stable URLs)\n",
    "# Places (2023, 1:500k) and ZCTA5 (2020, 1:500k)\n",
    "places_url = 'https://www2.census.gov/geo/tiger/GENZ2023/shp/cb_2023_us_place_500k.zip'\n",
    "zcta_url = 'https://www2.census.gov/geo/tiger/GENZ2020/shp/cb_2020_us_zcta520_500k.zip'\n",
    "\n",
    "places_zip = os.path.join(DATA_DIR, 'cb_2023_us_place_500k.zip')\n",
    "zcta_zip = os.path.join(DATA_DIR, 'cb_2020_us_zcta520_500k.zip')\n",
    "\n",
    "# Download if missing\n",
    "import urllib.request\n",
    "for url, dest in [(places_url, places_zip), (zcta_url, zcta_zip)]:\n",
    "    if not os.path.exists(dest):\n",
    "        print('Downloading', url)\n",
    "        urllib.request.urlretrieve(url, dest)\n",
    "        print('Saved to', dest)\n",
    "    else:\n",
    "        print('Exists', dest)\n",
    "\n",
    "# Unzip\n",
    "import zipfile\n",
    "for dest in [places_zip, zcta_zip]:\n",
    "    with zipfile.ZipFile(dest, 'r') as zf:\n",
    "        zf.extractall(DATA_DIR)\n",
    "print('Unzipped')\n"
   ]
  },
  {
   "cell_type": "code",
   "execution_count": 4,
   "metadata": {
    "execution": {
     "iopub.execute_input": "2025-09-27T02:27:02.191916Z",
     "iopub.status.busy": "2025-09-27T02:27:02.191841Z",
     "iopub.status.idle": "2025-09-27T02:27:02.792852Z",
     "shell.execute_reply": "2025-09-27T02:27:02.792576Z"
    }
   },
   "outputs": [
    {
     "name": "stdout",
     "output_type": "stream",
     "text": [
      "32608 places; 33791 zctas\n"
     ]
    }
   ],
   "source": [
    "# Load geodata\n",
    "place_fp = [f for f in os.listdir(DATA_DIR) if f.startswith('cb_2023_us_place_500k') and f.endswith('.shp')][0]\n",
    "zcta_fp = [f for f in os.listdir(DATA_DIR) if f.startswith('cb_2020_us_zcta520_500k') and f.endswith('.shp')][0]\n",
    "\n",
    "places = gpd.read_file(os.path.join(DATA_DIR, place_fp))\n",
    "zctas = gpd.read_file(os.path.join(DATA_DIR, zcta_fp))\n",
    "\n",
    "# Normalize columns\n",
    "places['NAME_NORM'] = places['NAME'].str.upper().str.replace('\\.', '', regex=False)\n",
    "# In cartographic shapefiles, state FIPS is in STATEFP\n",
    "places['STATEFP'] = places['STATEFP']\n",
    "\n",
    "# ZCTA code column could be ZCTA5CE10 or ZCTA5CE20; detect\n",
    "zcta_col = 'ZCTA5CE10' if 'ZCTA5CE10' in zctas.columns else ('ZCTA5CE20' if 'ZCTA5CE20' in zctas.columns else None)\n",
    "if zcta_col is None:\n",
    "    raise RuntimeError(f'ZCTA code column not found. Columns: {list(zctas.columns)}')\n",
    "zctas[zcta_col] = zctas[zcta_col].astype(str)\n",
    "\n",
    "print(len(places), 'places;', len(zctas), 'zctas')\n"
   ]
  },
  {
   "cell_type": "code",
   "execution_count": 5,
   "metadata": {
    "execution": {
     "iopub.execute_input": "2025-09-27T02:27:02.794079Z",
     "iopub.status.busy": "2025-09-27T02:27:02.793973Z",
     "iopub.status.idle": "2025-09-27T02:27:02.800193Z",
     "shell.execute_reply": "2025-09-27T02:27:02.799954Z"
    }
   },
   "outputs": [
    {
     "name": "stdout",
     "output_type": "stream",
     "text": [
      "Prepared place keys\n"
     ]
    }
   ],
   "source": [
    "# Map state abbreviations to FIPS\n",
    "state_abbr_to_fips = {\n",
    "    'AL':'01','AK':'02','AZ':'04','AR':'05','CA':'06','CO':'08','CT':'09','DE':'10','DC':'11','FL':'12','GA':'13','HI':'15','ID':'16','IL':'17','IN':'18','IA':'19','KS':'20','KY':'21','LA':'22','ME':'23','MD':'24','MA':'25','MI':'26','MN':'27','MS':'28','MO':'29','MT':'30','NE':'31','NV':'32','NH':'33','NJ':'34','NM':'35','NY':'36','NC':'37','ND':'38','OH':'39','OK':'40','OR':'41','PA':'42','RI':'44','SC':'45','SD':'46','TN':'47','TX':'48','UT':'49','VT':'50','VA':'51','WA':'53','WV':'54','WI':'55','WY':'56'}\n",
    "\n",
    "# Build lookup on places by (name,state)\n",
    "places['KEY'] = places['NAME_NORM'] + '|' + places['STATEFP']\n",
    "\n",
    "print('Prepared place keys')\n"
   ]
  },
  {
   "cell_type": "code",
   "execution_count": 6,
   "metadata": {
    "execution": {
     "iopub.execute_input": "2025-09-27T02:27:02.801229Z",
     "iopub.status.busy": "2025-09-27T02:27:02.801162Z",
     "iopub.status.idle": "2025-09-27T02:27:02.895692Z",
     "shell.execute_reply": "2025-09-27T02:27:02.895444Z"
    }
   },
   "outputs": [
    {
     "name": "stdout",
     "output_type": "stream",
     "text": [
      "Prepared centroids\n"
     ]
    },
    {
     "name": "stderr",
     "output_type": "stream",
     "text": [
      "/var/folders/d8/0ml7793s3d1c9g2vzlb7wkb40000gn/T/ipykernel_55839/1040632757.py:6: UserWarning: Geometry is in a geographic CRS. Results from 'centroid' are likely incorrect. Use 'GeoSeries.to_crs()' to re-project geometries to a projected CRS before this operation.\n",
      "\n",
      "  zcta_centroids['geometry'] = zcta_centroids.geometry.centroid\n"
     ]
    }
   ],
   "source": [
    "# Compute ZCTA centroids in same CRS as places\n",
    "if zctas.crs != places.crs:\n",
    "    zctas = zctas.to_crs(places.crs)\n",
    "\n",
    "zcta_centroids = zctas.copy()\n",
    "zcta_centroids['geometry'] = zcta_centroids.geometry.centroid\n",
    "\n",
    "# Track the chosen ZCTA code column across the notebook\n",
    "zcta_code_col = zcta_col\n",
    "\n",
    "print('Prepared centroids')\n"
   ]
  },
  {
   "cell_type": "code",
   "execution_count": 7,
   "metadata": {
    "execution": {
     "iopub.execute_input": "2025-09-27T02:27:02.896765Z",
     "iopub.status.busy": "2025-09-27T02:27:02.896700Z",
     "iopub.status.idle": "2025-09-27T02:27:03.373734Z",
     "shell.execute_reply": "2025-09-27T02:27:03.373421Z"
    }
   },
   "outputs": [
    {
     "name": "stderr",
     "output_type": "stream",
     "text": [
      "\r",
      "  0%|                                                                                                                      | 0/100 [00:00<?, ?it/s]"
     ]
    },
    {
     "name": "stderr",
     "output_type": "stream",
     "text": [
      "/var/folders/d8/0ml7793s3d1c9g2vzlb7wkb40000gn/T/ipykernel_55839/1682874677.py:28: DeprecationWarning: The 'unary_union' attribute is deprecated, use the 'union_all()' method instead.\n",
      "  union_geom = candidate_places.unary_union\n",
      "/var/folders/d8/0ml7793s3d1c9g2vzlb7wkb40000gn/T/ipykernel_55839/1682874677.py:28: DeprecationWarning: The 'unary_union' attribute is deprecated, use the 'union_all()' method instead.\n",
      "  union_geom = candidate_places.unary_union\n",
      "/var/folders/d8/0ml7793s3d1c9g2vzlb7wkb40000gn/T/ipykernel_55839/1682874677.py:28: DeprecationWarning: The 'unary_union' attribute is deprecated, use the 'union_all()' method instead.\n",
      "  union_geom = candidate_places.unary_union\n",
      "/var/folders/d8/0ml7793s3d1c9g2vzlb7wkb40000gn/T/ipykernel_55839/1682874677.py:28: DeprecationWarning: The 'unary_union' attribute is deprecated, use the 'union_all()' method instead.\n",
      "  union_geom = candidate_places.unary_union\n",
      "/var/folders/d8/0ml7793s3d1c9g2vzlb7wkb40000gn/T/ipykernel_55839/1682874677.py:28: DeprecationWarning: The 'unary_union' attribute is deprecated, use the 'union_all()' method instead.\n",
      "  union_geom = candidate_places.unary_union\n",
      "/var/folders/d8/0ml7793s3d1c9g2vzlb7wkb40000gn/T/ipykernel_55839/1682874677.py:28: DeprecationWarning: The 'unary_union' attribute is deprecated, use the 'union_all()' method instead.\n",
      "  union_geom = candidate_places.unary_union\n",
      "/var/folders/d8/0ml7793s3d1c9g2vzlb7wkb40000gn/T/ipykernel_55839/1682874677.py:28: DeprecationWarning: The 'unary_union' attribute is deprecated, use the 'union_all()' method instead.\n",
      "  union_geom = candidate_places.unary_union\n",
      "/var/folders/d8/0ml7793s3d1c9g2vzlb7wkb40000gn/T/ipykernel_55839/1682874677.py:28: DeprecationWarning: The 'unary_union' attribute is deprecated, use the 'union_all()' method instead.\n",
      "  union_geom = candidate_places.unary_union\n",
      "/var/folders/d8/0ml7793s3d1c9g2vzlb7wkb40000gn/T/ipykernel_55839/1682874677.py:28: DeprecationWarning: The 'unary_union' attribute is deprecated, use the 'union_all()' method instead.\n",
      "  union_geom = candidate_places.unary_union\n",
      "/var/folders/d8/0ml7793s3d1c9g2vzlb7wkb40000gn/T/ipykernel_55839/1682874677.py:28: DeprecationWarning: The 'unary_union' attribute is deprecated, use the 'union_all()' method instead.\n",
      "  union_geom = candidate_places.unary_union\n",
      "/var/folders/d8/0ml7793s3d1c9g2vzlb7wkb40000gn/T/ipykernel_55839/1682874677.py:28: DeprecationWarning: The 'unary_union' attribute is deprecated, use the 'union_all()' method instead.\n",
      "  union_geom = candidate_places.unary_union\n",
      "/var/folders/d8/0ml7793s3d1c9g2vzlb7wkb40000gn/T/ipykernel_55839/1682874677.py:28: DeprecationWarning: The 'unary_union' attribute is deprecated, use the 'union_all()' method instead.\n",
      "  union_geom = candidate_places.unary_union\n",
      "/var/folders/d8/0ml7793s3d1c9g2vzlb7wkb40000gn/T/ipykernel_55839/1682874677.py:28: DeprecationWarning: The 'unary_union' attribute is deprecated, use the 'union_all()' method instead.\n",
      "  union_geom = candidate_places.unary_union\n",
      "/var/folders/d8/0ml7793s3d1c9g2vzlb7wkb40000gn/T/ipykernel_55839/1682874677.py:28: DeprecationWarning: The 'unary_union' attribute is deprecated, use the 'union_all()' method instead.\n",
      "  union_geom = candidate_places.unary_union\n",
      "/var/folders/d8/0ml7793s3d1c9g2vzlb7wkb40000gn/T/ipykernel_55839/1682874677.py:28: DeprecationWarning: The 'unary_union' attribute is deprecated, use the 'union_all()' method instead.\n",
      "  union_geom = candidate_places.unary_union\n",
      "/var/folders/d8/0ml7793s3d1c9g2vzlb7wkb40000gn/T/ipykernel_55839/1682874677.py:28: DeprecationWarning: The 'unary_union' attribute is deprecated, use the 'union_all()' method instead.\n",
      "  union_geom = candidate_places.unary_union\n",
      "\r",
      " 16%|█████████████████▎                                                                                          | 16/100 [00:00<00:00, 154.45it/s]"
     ]
    },
    {
     "name": "stderr",
     "output_type": "stream",
     "text": [
      "/var/folders/d8/0ml7793s3d1c9g2vzlb7wkb40000gn/T/ipykernel_55839/1682874677.py:28: DeprecationWarning: The 'unary_union' attribute is deprecated, use the 'union_all()' method instead.\n",
      "  union_geom = candidate_places.unary_union\n",
      "/var/folders/d8/0ml7793s3d1c9g2vzlb7wkb40000gn/T/ipykernel_55839/1682874677.py:28: DeprecationWarning: The 'unary_union' attribute is deprecated, use the 'union_all()' method instead.\n",
      "  union_geom = candidate_places.unary_union\n",
      "/var/folders/d8/0ml7793s3d1c9g2vzlb7wkb40000gn/T/ipykernel_55839/1682874677.py:28: DeprecationWarning: The 'unary_union' attribute is deprecated, use the 'union_all()' method instead.\n",
      "  union_geom = candidate_places.unary_union\n",
      "/var/folders/d8/0ml7793s3d1c9g2vzlb7wkb40000gn/T/ipykernel_55839/1682874677.py:28: DeprecationWarning: The 'unary_union' attribute is deprecated, use the 'union_all()' method instead.\n",
      "  union_geom = candidate_places.unary_union\n",
      "/var/folders/d8/0ml7793s3d1c9g2vzlb7wkb40000gn/T/ipykernel_55839/1682874677.py:28: DeprecationWarning: The 'unary_union' attribute is deprecated, use the 'union_all()' method instead.\n",
      "  union_geom = candidate_places.unary_union\n",
      "/var/folders/d8/0ml7793s3d1c9g2vzlb7wkb40000gn/T/ipykernel_55839/1682874677.py:28: DeprecationWarning: The 'unary_union' attribute is deprecated, use the 'union_all()' method instead.\n",
      "  union_geom = candidate_places.unary_union\n",
      "/var/folders/d8/0ml7793s3d1c9g2vzlb7wkb40000gn/T/ipykernel_55839/1682874677.py:28: DeprecationWarning: The 'unary_union' attribute is deprecated, use the 'union_all()' method instead.\n",
      "  union_geom = candidate_places.unary_union\n"
     ]
    },
    {
     "name": "stderr",
     "output_type": "stream",
     "text": [
      "/var/folders/d8/0ml7793s3d1c9g2vzlb7wkb40000gn/T/ipykernel_55839/1682874677.py:28: DeprecationWarning: The 'unary_union' attribute is deprecated, use the 'union_all()' method instead.\n",
      "  union_geom = candidate_places.unary_union\n",
      "/var/folders/d8/0ml7793s3d1c9g2vzlb7wkb40000gn/T/ipykernel_55839/1682874677.py:28: DeprecationWarning: The 'unary_union' attribute is deprecated, use the 'union_all()' method instead.\n",
      "  union_geom = candidate_places.unary_union\n",
      "/var/folders/d8/0ml7793s3d1c9g2vzlb7wkb40000gn/T/ipykernel_55839/1682874677.py:28: DeprecationWarning: The 'unary_union' attribute is deprecated, use the 'union_all()' method instead.\n",
      "  union_geom = candidate_places.unary_union\n",
      "/var/folders/d8/0ml7793s3d1c9g2vzlb7wkb40000gn/T/ipykernel_55839/1682874677.py:28: DeprecationWarning: The 'unary_union' attribute is deprecated, use the 'union_all()' method instead.\n",
      "  union_geom = candidate_places.unary_union\n",
      "/var/folders/d8/0ml7793s3d1c9g2vzlb7wkb40000gn/T/ipykernel_55839/1682874677.py:28: DeprecationWarning: The 'unary_union' attribute is deprecated, use the 'union_all()' method instead.\n",
      "  union_geom = candidate_places.unary_union\n",
      "/var/folders/d8/0ml7793s3d1c9g2vzlb7wkb40000gn/T/ipykernel_55839/1682874677.py:28: DeprecationWarning: The 'unary_union' attribute is deprecated, use the 'union_all()' method instead.\n",
      "  union_geom = candidate_places.unary_union\n",
      "/var/folders/d8/0ml7793s3d1c9g2vzlb7wkb40000gn/T/ipykernel_55839/1682874677.py:28: DeprecationWarning: The 'unary_union' attribute is deprecated, use the 'union_all()' method instead.\n",
      "  union_geom = candidate_places.unary_union\n",
      "/var/folders/d8/0ml7793s3d1c9g2vzlb7wkb40000gn/T/ipykernel_55839/1682874677.py:28: DeprecationWarning: The 'unary_union' attribute is deprecated, use the 'union_all()' method instead.\n",
      "  union_geom = candidate_places.unary_union\n",
      "/var/folders/d8/0ml7793s3d1c9g2vzlb7wkb40000gn/T/ipykernel_55839/1682874677.py:28: DeprecationWarning: The 'unary_union' attribute is deprecated, use the 'union_all()' method instead.\n",
      "  union_geom = candidate_places.unary_union\n",
      "/var/folders/d8/0ml7793s3d1c9g2vzlb7wkb40000gn/T/ipykernel_55839/1682874677.py:28: DeprecationWarning: The 'unary_union' attribute is deprecated, use the 'union_all()' method instead.\n",
      "  union_geom = candidate_places.unary_union\n",
      "/var/folders/d8/0ml7793s3d1c9g2vzlb7wkb40000gn/T/ipykernel_55839/1682874677.py:28: DeprecationWarning: The 'unary_union' attribute is deprecated, use the 'union_all()' method instead.\n",
      "  union_geom = candidate_places.unary_union\n",
      "/var/folders/d8/0ml7793s3d1c9g2vzlb7wkb40000gn/T/ipykernel_55839/1682874677.py:28: DeprecationWarning: The 'unary_union' attribute is deprecated, use the 'union_all()' method instead.\n",
      "  union_geom = candidate_places.unary_union\n",
      "/var/folders/d8/0ml7793s3d1c9g2vzlb7wkb40000gn/T/ipykernel_55839/1682874677.py:28: DeprecationWarning: The 'unary_union' attribute is deprecated, use the 'union_all()' method instead.\n",
      "  union_geom = candidate_places.unary_union\n",
      "/var/folders/d8/0ml7793s3d1c9g2vzlb7wkb40000gn/T/ipykernel_55839/1682874677.py:28: DeprecationWarning: The 'unary_union' attribute is deprecated, use the 'union_all()' method instead.\n",
      "  union_geom = candidate_places.unary_union\n",
      "/var/folders/d8/0ml7793s3d1c9g2vzlb7wkb40000gn/T/ipykernel_55839/1682874677.py:28: DeprecationWarning: The 'unary_union' attribute is deprecated, use the 'union_all()' method instead.\n",
      "  union_geom = candidate_places.unary_union\n",
      "/var/folders/d8/0ml7793s3d1c9g2vzlb7wkb40000gn/T/ipykernel_55839/1682874677.py:28: DeprecationWarning: The 'unary_union' attribute is deprecated, use the 'union_all()' method instead.\n",
      "  union_geom = candidate_places.unary_union\n",
      "/var/folders/d8/0ml7793s3d1c9g2vzlb7wkb40000gn/T/ipykernel_55839/1682874677.py:28: DeprecationWarning: The 'unary_union' attribute is deprecated, use the 'union_all()' method instead.\n",
      "  union_geom = candidate_places.unary_union\n",
      "/var/folders/d8/0ml7793s3d1c9g2vzlb7wkb40000gn/T/ipykernel_55839/1682874677.py:28: DeprecationWarning: The 'unary_union' attribute is deprecated, use the 'union_all()' method instead.\n",
      "  union_geom = candidate_places.unary_union\n",
      "/var/folders/d8/0ml7793s3d1c9g2vzlb7wkb40000gn/T/ipykernel_55839/1682874677.py:28: DeprecationWarning: The 'unary_union' attribute is deprecated, use the 'union_all()' method instead.\n",
      "  union_geom = candidate_places.unary_union\n",
      "/var/folders/d8/0ml7793s3d1c9g2vzlb7wkb40000gn/T/ipykernel_55839/1682874677.py:28: DeprecationWarning: The 'unary_union' attribute is deprecated, use the 'union_all()' method instead.\n",
      "  union_geom = candidate_places.unary_union\n",
      "/var/folders/d8/0ml7793s3d1c9g2vzlb7wkb40000gn/T/ipykernel_55839/1682874677.py:28: DeprecationWarning: The 'unary_union' attribute is deprecated, use the 'union_all()' method instead.\n",
      "  union_geom = candidate_places.unary_union\n"
     ]
    },
    {
     "name": "stderr",
     "output_type": "stream",
     "text": [
      "/var/folders/d8/0ml7793s3d1c9g2vzlb7wkb40000gn/T/ipykernel_55839/1682874677.py:28: DeprecationWarning: The 'unary_union' attribute is deprecated, use the 'union_all()' method instead.\n",
      "  union_geom = candidate_places.unary_union\n",
      "/var/folders/d8/0ml7793s3d1c9g2vzlb7wkb40000gn/T/ipykernel_55839/1682874677.py:28: DeprecationWarning: The 'unary_union' attribute is deprecated, use the 'union_all()' method instead.\n",
      "  union_geom = candidate_places.unary_union\n",
      "\r",
      " 46%|█████████████████████████████████████████████████▋                                                          | 46/100 [00:00<00:00, 234.60it/s]"
     ]
    },
    {
     "name": "stderr",
     "output_type": "stream",
     "text": [
      "/var/folders/d8/0ml7793s3d1c9g2vzlb7wkb40000gn/T/ipykernel_55839/1682874677.py:28: DeprecationWarning: The 'unary_union' attribute is deprecated, use the 'union_all()' method instead.\n",
      "  union_geom = candidate_places.unary_union\n",
      "/var/folders/d8/0ml7793s3d1c9g2vzlb7wkb40000gn/T/ipykernel_55839/1682874677.py:28: DeprecationWarning: The 'unary_union' attribute is deprecated, use the 'union_all()' method instead.\n",
      "  union_geom = candidate_places.unary_union\n",
      "/var/folders/d8/0ml7793s3d1c9g2vzlb7wkb40000gn/T/ipykernel_55839/1682874677.py:28: DeprecationWarning: The 'unary_union' attribute is deprecated, use the 'union_all()' method instead.\n",
      "  union_geom = candidate_places.unary_union\n",
      "/var/folders/d8/0ml7793s3d1c9g2vzlb7wkb40000gn/T/ipykernel_55839/1682874677.py:28: DeprecationWarning: The 'unary_union' attribute is deprecated, use the 'union_all()' method instead.\n",
      "  union_geom = candidate_places.unary_union\n",
      "/var/folders/d8/0ml7793s3d1c9g2vzlb7wkb40000gn/T/ipykernel_55839/1682874677.py:28: DeprecationWarning: The 'unary_union' attribute is deprecated, use the 'union_all()' method instead.\n",
      "  union_geom = candidate_places.unary_union\n",
      "/var/folders/d8/0ml7793s3d1c9g2vzlb7wkb40000gn/T/ipykernel_55839/1682874677.py:28: DeprecationWarning: The 'unary_union' attribute is deprecated, use the 'union_all()' method instead.\n",
      "  union_geom = candidate_places.unary_union\n",
      "/var/folders/d8/0ml7793s3d1c9g2vzlb7wkb40000gn/T/ipykernel_55839/1682874677.py:28: DeprecationWarning: The 'unary_union' attribute is deprecated, use the 'union_all()' method instead.\n",
      "  union_geom = candidate_places.unary_union\n",
      "/var/folders/d8/0ml7793s3d1c9g2vzlb7wkb40000gn/T/ipykernel_55839/1682874677.py:28: DeprecationWarning: The 'unary_union' attribute is deprecated, use the 'union_all()' method instead.\n",
      "  union_geom = candidate_places.unary_union\n",
      "/var/folders/d8/0ml7793s3d1c9g2vzlb7wkb40000gn/T/ipykernel_55839/1682874677.py:28: DeprecationWarning: The 'unary_union' attribute is deprecated, use the 'union_all()' method instead.\n",
      "  union_geom = candidate_places.unary_union\n",
      "/var/folders/d8/0ml7793s3d1c9g2vzlb7wkb40000gn/T/ipykernel_55839/1682874677.py:28: DeprecationWarning: The 'unary_union' attribute is deprecated, use the 'union_all()' method instead.\n",
      "  union_geom = candidate_places.unary_union\n",
      "/var/folders/d8/0ml7793s3d1c9g2vzlb7wkb40000gn/T/ipykernel_55839/1682874677.py:28: DeprecationWarning: The 'unary_union' attribute is deprecated, use the 'union_all()' method instead.\n",
      "  union_geom = candidate_places.unary_union\n",
      "/var/folders/d8/0ml7793s3d1c9g2vzlb7wkb40000gn/T/ipykernel_55839/1682874677.py:28: DeprecationWarning: The 'unary_union' attribute is deprecated, use the 'union_all()' method instead.\n",
      "  union_geom = candidate_places.unary_union\n",
      "/var/folders/d8/0ml7793s3d1c9g2vzlb7wkb40000gn/T/ipykernel_55839/1682874677.py:28: DeprecationWarning: The 'unary_union' attribute is deprecated, use the 'union_all()' method instead.\n",
      "  union_geom = candidate_places.unary_union\n",
      "/var/folders/d8/0ml7793s3d1c9g2vzlb7wkb40000gn/T/ipykernel_55839/1682874677.py:28: DeprecationWarning: The 'unary_union' attribute is deprecated, use the 'union_all()' method instead.\n",
      "  union_geom = candidate_places.unary_union\n",
      "/var/folders/d8/0ml7793s3d1c9g2vzlb7wkb40000gn/T/ipykernel_55839/1682874677.py:28: DeprecationWarning: The 'unary_union' attribute is deprecated, use the 'union_all()' method instead.\n",
      "  union_geom = candidate_places.unary_union\n",
      "/var/folders/d8/0ml7793s3d1c9g2vzlb7wkb40000gn/T/ipykernel_55839/1682874677.py:28: DeprecationWarning: The 'unary_union' attribute is deprecated, use the 'union_all()' method instead.\n",
      "  union_geom = candidate_places.unary_union\n",
      "/var/folders/d8/0ml7793s3d1c9g2vzlb7wkb40000gn/T/ipykernel_55839/1682874677.py:28: DeprecationWarning: The 'unary_union' attribute is deprecated, use the 'union_all()' method instead.\n",
      "  union_geom = candidate_places.unary_union\n",
      "/var/folders/d8/0ml7793s3d1c9g2vzlb7wkb40000gn/T/ipykernel_55839/1682874677.py:28: DeprecationWarning: The 'unary_union' attribute is deprecated, use the 'union_all()' method instead.\n",
      "  union_geom = candidate_places.unary_union\n",
      "/var/folders/d8/0ml7793s3d1c9g2vzlb7wkb40000gn/T/ipykernel_55839/1682874677.py:28: DeprecationWarning: The 'unary_union' attribute is deprecated, use the 'union_all()' method instead.\n",
      "  union_geom = candidate_places.unary_union\n",
      "/var/folders/d8/0ml7793s3d1c9g2vzlb7wkb40000gn/T/ipykernel_55839/1682874677.py:28: DeprecationWarning: The 'unary_union' attribute is deprecated, use the 'union_all()' method instead.\n",
      "  union_geom = candidate_places.unary_union\n"
     ]
    },
    {
     "name": "stderr",
     "output_type": "stream",
     "text": [
      "/var/folders/d8/0ml7793s3d1c9g2vzlb7wkb40000gn/T/ipykernel_55839/1682874677.py:28: DeprecationWarning: The 'unary_union' attribute is deprecated, use the 'union_all()' method instead.\n",
      "  union_geom = candidate_places.unary_union\n",
      "/var/folders/d8/0ml7793s3d1c9g2vzlb7wkb40000gn/T/ipykernel_55839/1682874677.py:28: DeprecationWarning: The 'unary_union' attribute is deprecated, use the 'union_all()' method instead.\n",
      "  union_geom = candidate_places.unary_union\n",
      "/var/folders/d8/0ml7793s3d1c9g2vzlb7wkb40000gn/T/ipykernel_55839/1682874677.py:28: DeprecationWarning: The 'unary_union' attribute is deprecated, use the 'union_all()' method instead.\n",
      "  union_geom = candidate_places.unary_union\n",
      "\r",
      " 70%|███████████████████████████████████████████████████████████████████████████▌                                | 70/100 [00:00<00:00, 214.45it/s]"
     ]
    },
    {
     "name": "stderr",
     "output_type": "stream",
     "text": [
      "/var/folders/d8/0ml7793s3d1c9g2vzlb7wkb40000gn/T/ipykernel_55839/1682874677.py:28: DeprecationWarning: The 'unary_union' attribute is deprecated, use the 'union_all()' method instead.\n",
      "  union_geom = candidate_places.unary_union\n",
      "/var/folders/d8/0ml7793s3d1c9g2vzlb7wkb40000gn/T/ipykernel_55839/1682874677.py:28: DeprecationWarning: The 'unary_union' attribute is deprecated, use the 'union_all()' method instead.\n",
      "  union_geom = candidate_places.unary_union\n",
      "/var/folders/d8/0ml7793s3d1c9g2vzlb7wkb40000gn/T/ipykernel_55839/1682874677.py:28: DeprecationWarning: The 'unary_union' attribute is deprecated, use the 'union_all()' method instead.\n",
      "  union_geom = candidate_places.unary_union\n",
      "/var/folders/d8/0ml7793s3d1c9g2vzlb7wkb40000gn/T/ipykernel_55839/1682874677.py:28: DeprecationWarning: The 'unary_union' attribute is deprecated, use the 'union_all()' method instead.\n",
      "  union_geom = candidate_places.unary_union\n",
      "/var/folders/d8/0ml7793s3d1c9g2vzlb7wkb40000gn/T/ipykernel_55839/1682874677.py:28: DeprecationWarning: The 'unary_union' attribute is deprecated, use the 'union_all()' method instead.\n",
      "  union_geom = candidate_places.unary_union\n",
      "/var/folders/d8/0ml7793s3d1c9g2vzlb7wkb40000gn/T/ipykernel_55839/1682874677.py:28: DeprecationWarning: The 'unary_union' attribute is deprecated, use the 'union_all()' method instead.\n",
      "  union_geom = candidate_places.unary_union\n",
      "/var/folders/d8/0ml7793s3d1c9g2vzlb7wkb40000gn/T/ipykernel_55839/1682874677.py:28: DeprecationWarning: The 'unary_union' attribute is deprecated, use the 'union_all()' method instead.\n",
      "  union_geom = candidate_places.unary_union\n",
      "/var/folders/d8/0ml7793s3d1c9g2vzlb7wkb40000gn/T/ipykernel_55839/1682874677.py:28: DeprecationWarning: The 'unary_union' attribute is deprecated, use the 'union_all()' method instead.\n",
      "  union_geom = candidate_places.unary_union\n",
      "/var/folders/d8/0ml7793s3d1c9g2vzlb7wkb40000gn/T/ipykernel_55839/1682874677.py:28: DeprecationWarning: The 'unary_union' attribute is deprecated, use the 'union_all()' method instead.\n",
      "  union_geom = candidate_places.unary_union\n",
      "/var/folders/d8/0ml7793s3d1c9g2vzlb7wkb40000gn/T/ipykernel_55839/1682874677.py:28: DeprecationWarning: The 'unary_union' attribute is deprecated, use the 'union_all()' method instead.\n",
      "  union_geom = candidate_places.unary_union\n",
      "/var/folders/d8/0ml7793s3d1c9g2vzlb7wkb40000gn/T/ipykernel_55839/1682874677.py:28: DeprecationWarning: The 'unary_union' attribute is deprecated, use the 'union_all()' method instead.\n",
      "  union_geom = candidate_places.unary_union\n",
      "/var/folders/d8/0ml7793s3d1c9g2vzlb7wkb40000gn/T/ipykernel_55839/1682874677.py:28: DeprecationWarning: The 'unary_union' attribute is deprecated, use the 'union_all()' method instead.\n",
      "  union_geom = candidate_places.unary_union\n",
      "/var/folders/d8/0ml7793s3d1c9g2vzlb7wkb40000gn/T/ipykernel_55839/1682874677.py:28: DeprecationWarning: The 'unary_union' attribute is deprecated, use the 'union_all()' method instead.\n",
      "  union_geom = candidate_places.unary_union\n",
      "/var/folders/d8/0ml7793s3d1c9g2vzlb7wkb40000gn/T/ipykernel_55839/1682874677.py:28: DeprecationWarning: The 'unary_union' attribute is deprecated, use the 'union_all()' method instead.\n",
      "  union_geom = candidate_places.unary_union\n",
      "/var/folders/d8/0ml7793s3d1c9g2vzlb7wkb40000gn/T/ipykernel_55839/1682874677.py:28: DeprecationWarning: The 'unary_union' attribute is deprecated, use the 'union_all()' method instead.\n",
      "  union_geom = candidate_places.unary_union\n",
      "/var/folders/d8/0ml7793s3d1c9g2vzlb7wkb40000gn/T/ipykernel_55839/1682874677.py:28: DeprecationWarning: The 'unary_union' attribute is deprecated, use the 'union_all()' method instead.\n",
      "  union_geom = candidate_places.unary_union\n",
      "/var/folders/d8/0ml7793s3d1c9g2vzlb7wkb40000gn/T/ipykernel_55839/1682874677.py:28: DeprecationWarning: The 'unary_union' attribute is deprecated, use the 'union_all()' method instead.\n",
      "  union_geom = candidate_places.unary_union\n",
      "/var/folders/d8/0ml7793s3d1c9g2vzlb7wkb40000gn/T/ipykernel_55839/1682874677.py:28: DeprecationWarning: The 'unary_union' attribute is deprecated, use the 'union_all()' method instead.\n",
      "  union_geom = candidate_places.unary_union\n",
      "/var/folders/d8/0ml7793s3d1c9g2vzlb7wkb40000gn/T/ipykernel_55839/1682874677.py:28: DeprecationWarning: The 'unary_union' attribute is deprecated, use the 'union_all()' method instead.\n",
      "  union_geom = candidate_places.unary_union\n",
      "/var/folders/d8/0ml7793s3d1c9g2vzlb7wkb40000gn/T/ipykernel_55839/1682874677.py:28: DeprecationWarning: The 'unary_union' attribute is deprecated, use the 'union_all()' method instead.\n",
      "  union_geom = candidate_places.unary_union\n",
      "/var/folders/d8/0ml7793s3d1c9g2vzlb7wkb40000gn/T/ipykernel_55839/1682874677.py:28: DeprecationWarning: The 'unary_union' attribute is deprecated, use the 'union_all()' method instead.\n",
      "  union_geom = candidate_places.unary_union\n"
     ]
    },
    {
     "name": "stderr",
     "output_type": "stream",
     "text": [
      "/var/folders/d8/0ml7793s3d1c9g2vzlb7wkb40000gn/T/ipykernel_55839/1682874677.py:28: DeprecationWarning: The 'unary_union' attribute is deprecated, use the 'union_all()' method instead.\n",
      "  union_geom = candidate_places.unary_union\n",
      "/var/folders/d8/0ml7793s3d1c9g2vzlb7wkb40000gn/T/ipykernel_55839/1682874677.py:28: DeprecationWarning: The 'unary_union' attribute is deprecated, use the 'union_all()' method instead.\n",
      "  union_geom = candidate_places.unary_union\n",
      "/var/folders/d8/0ml7793s3d1c9g2vzlb7wkb40000gn/T/ipykernel_55839/1682874677.py:28: DeprecationWarning: The 'unary_union' attribute is deprecated, use the 'union_all()' method instead.\n",
      "  union_geom = candidate_places.unary_union\n"
     ]
    },
    {
     "name": "stderr",
     "output_type": "stream",
     "text": [
      "/var/folders/d8/0ml7793s3d1c9g2vzlb7wkb40000gn/T/ipykernel_55839/1682874677.py:28: DeprecationWarning: The 'unary_union' attribute is deprecated, use the 'union_all()' method instead.\n",
      "  union_geom = candidate_places.unary_union\n",
      "/var/folders/d8/0ml7793s3d1c9g2vzlb7wkb40000gn/T/ipykernel_55839/1682874677.py:28: DeprecationWarning: The 'unary_union' attribute is deprecated, use the 'union_all()' method instead.\n",
      "  union_geom = candidate_places.unary_union\n",
      "/var/folders/d8/0ml7793s3d1c9g2vzlb7wkb40000gn/T/ipykernel_55839/1682874677.py:28: DeprecationWarning: The 'unary_union' attribute is deprecated, use the 'union_all()' method instead.\n",
      "  union_geom = candidate_places.unary_union\n",
      "\r",
      " 97%|████████████████████████████████████████████████████████████████████████████████████████████████████████▊   | 97/100 [00:00<00:00, 234.67it/s]"
     ]
    },
    {
     "name": "stderr",
     "output_type": "stream",
     "text": [
      "/var/folders/d8/0ml7793s3d1c9g2vzlb7wkb40000gn/T/ipykernel_55839/1682874677.py:28: DeprecationWarning: The 'unary_union' attribute is deprecated, use the 'union_all()' method instead.\n",
      "  union_geom = candidate_places.unary_union\n",
      "/var/folders/d8/0ml7793s3d1c9g2vzlb7wkb40000gn/T/ipykernel_55839/1682874677.py:28: DeprecationWarning: The 'unary_union' attribute is deprecated, use the 'union_all()' method instead.\n",
      "  union_geom = candidate_places.unary_union\n",
      "/var/folders/d8/0ml7793s3d1c9g2vzlb7wkb40000gn/T/ipykernel_55839/1682874677.py:28: DeprecationWarning: The 'unary_union' attribute is deprecated, use the 'union_all()' method instead.\n",
      "  union_geom = candidate_places.unary_union\n",
      "\r",
      "100%|███████████████████████████████████████████████████████████████████████████████████████████████████████████| 100/100 [00:00<00:00, 223.61it/s]"
     ]
    },
    {
     "name": "stdout",
     "output_type": "stream",
     "text": [
      "Done cities: 100\n"
     ]
    },
    {
     "name": "stderr",
     "output_type": "stream",
     "text": [
      "\n"
     ]
    }
   ],
   "source": [
    "# For each city, find matching place(s) and collect ZCTAs whose centroids fall within\n",
    "core_rows = []\n",
    "\n",
    "for _, r in tqdm(cities.iterrows(), total=len(cities)):\n",
    "    city_name = r['CITY_NORM']\n",
    "    state_abbr = r['STATE_NORM']\n",
    "    statefp = state_abbr_to_fips.get(state_abbr)\n",
    "    if statefp is None:\n",
    "        core_rows.append({**r.to_dict(), 'ZIPCODES': ''})\n",
    "        continue\n",
    "    # Some city names may include qualifiers like \"St. Louis\" vs \"Saint Louis\"\n",
    "    name_variants = {city_name,\n",
    "                     city_name.replace('ST ', 'SAINT '),\n",
    "                     city_name.replace('SAINT ', 'ST ')}\n",
    "\n",
    "    candidate_places = places[places['STATEFP'] == statefp]\n",
    "    candidate_places = candidate_places[candidate_places['NAME_NORM'].isin(name_variants)]\n",
    "\n",
    "    if candidate_places.empty:\n",
    "        # fallback: contains\n",
    "        candidate_places = places[(places['STATEFP'] == statefp) & (places['NAME_NORM'].str.contains(city_name, regex=False))]\n",
    "\n",
    "    if candidate_places.empty:\n",
    "        core_rows.append({**r.to_dict(), 'ZIPCODES': ''})\n",
    "        continue\n",
    "\n",
    "    # Union geometry if multiple place parts\n",
    "    union_geom = candidate_places.unary_union\n",
    "\n",
    "    # Select ZCTAs whose centroid is within place polygon\n",
    "    within_mask = zcta_centroids.within(union_geom)\n",
    "    zips = zcta_centroids.loc[within_mask, zcta_code_col].tolist()\n",
    "    zips_sorted = sorted(set(zips))\n",
    "\n",
    "    rec = r.to_dict()\n",
    "    rec['ZIPCODES'] = ','.join(zips_sorted)\n",
    "    core_rows.append(rec)\n",
    "\n",
    "core_df = pd.DataFrame(core_rows)\n",
    "print('Done cities:', len(core_df))\n"
   ]
  },
  {
   "cell_type": "code",
   "execution_count": 8,
   "metadata": {
    "execution": {
     "iopub.execute_input": "2025-09-27T02:27:03.374931Z",
     "iopub.status.busy": "2025-09-27T02:27:03.374831Z",
     "iopub.status.idle": "2025-09-27T02:27:03.379587Z",
     "shell.execute_reply": "2025-09-27T02:27:03.379389Z"
    }
   },
   "outputs": [
    {
     "name": "stdout",
     "output_type": "stream",
     "text": [
      "Wrote top_100_cities_core_zipcodes.csv\n",
      "Tampa -> 33602,33603,33604,33605,33607,33609,33611,33612,33616,33620,33621,33629\n",
      "Orlando -> 32801,32803,32804,32805,32808,32811,32814,32827\n",
      "Miami -> 33101,33125,33127,33128,33129,33130,33131,33132,33133,33135,33136,33137,33138,33144,33145\n"
     ]
    }
   ],
   "source": [
    "# Save output in requested format\n",
    "output = core_df[['CITY_STATE','CITY','STATE','POPULATION','CITY_RANK']].copy()\n",
    "output['ZIPCODES'] = core_df['ZIPCODES']\n",
    "output.to_csv('top_100_cities_core_zipcodes.csv', index=False)\n",
    "print('Wrote top_100_cities_core_zipcodes.csv')\n",
    "\n",
    "# Quick spot checks\n",
    "for city in ['Tampa', 'Orlando', 'Miami']:\n",
    "    row = output[output['CITY'] == city]\n",
    "    if not row.empty:\n",
    "        print(city, '->', row.iloc[0]['ZIPCODES'][:120] + ('...' if len(row.iloc[0]['ZIPCODES'])>120 else ''))\n"
   ]
  },
  {
   "cell_type": "code",
   "execution_count": 9,
   "metadata": {
    "execution": {
     "iopub.execute_input": "2025-09-27T02:27:03.380620Z",
     "iopub.status.busy": "2025-09-27T02:27:03.380555Z",
     "iopub.status.idle": "2025-09-27T02:27:03.389573Z",
     "shell.execute_reply": "2025-09-27T02:27:03.389370Z"
    }
   },
   "outputs": [
    {
     "name": "stdout",
     "output_type": "stream",
     "text": [
      "Wrote top_100_cities_core_zipcodes_long.csv rows: 2103\n",
      "  CITY_STATE     CITY STATE  POPULATION  CITY_RANK ZIPCODE\n",
      "New York, NY New York    NY     8258035          1   10001\n",
      "New York, NY New York    NY     8258035          1   10002\n",
      "New York, NY New York    NY     8258035          1   10003\n",
      "New York, NY New York    NY     8258035          1   10005\n",
      "New York, NY New York    NY     8258035          1   10006\n",
      "New York, NY New York    NY     8258035          1   10007\n",
      "New York, NY New York    NY     8258035          1   10009\n",
      "New York, NY New York    NY     8258035          1   10010\n",
      "New York, NY New York    NY     8258035          1   10011\n",
      "New York, NY New York    NY     8258035          1   10012\n"
     ]
    }
   ],
   "source": [
    "# Create long-form CSV with one zipcode per row\n",
    "import pandas as pd\n",
    "\n",
    "wide_df = pd.read_csv('top_100_cities_core_zipcodes.csv')\n",
    "wide_df['ZIPCODES'] = wide_df['ZIPCODES'].fillna('')\n",
    "\n",
    "# Split comma-separated zipcodes and explode to rows\n",
    "long_df = wide_df.assign(ZIPCODE=wide_df['ZIPCODES'].str.split(',')).explode('ZIPCODE')\n",
    "long_df['ZIPCODE'] = long_df['ZIPCODE'].astype(str).str.strip()\n",
    "long_df = long_df[long_df['ZIPCODE'] != '']\n",
    "\n",
    "# Keep requested columns\n",
    "long_df = long_df[['CITY_STATE','CITY','STATE','POPULATION','CITY_RANK','ZIPCODE']]\n",
    "\n",
    "# Save\n",
    "long_out = 'top_100_cities_core_zipcodes_long.csv'\n",
    "long_df.to_csv(long_out, index=False)\n",
    "print('Wrote', long_out, 'rows:', len(long_df))\n",
    "\n",
    "# Quick peek\n",
    "print(long_df.head(10).to_string(index=False))\n"
   ]
  }
 ],
 "metadata": {
  "language_info": {
   "codemirror_mode": {
    "name": "ipython",
    "version": 3
   },
   "file_extension": ".py",
   "mimetype": "text/x-python",
   "name": "python",
   "nbconvert_exporter": "python",
   "pygments_lexer": "ipython3",
   "version": "3.11.0"
  }
 },
 "nbformat": 4,
 "nbformat_minor": 2
}
