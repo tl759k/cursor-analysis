{
  "cells": [
    {
      "cell_type": "markdown",
      "metadata": {},
      "source": [
        "# Year-over-Year DX Applications Analysis by Top 100 Cities\n",
        "## CURSOR GENERATED\n",
        "Reviewed by Ax:\n",
        "\n",
        "This notebook runs the YoY analysis SQL query to calculate lifetime DX applications by top 100 cities with time-based breakdowns and growth rates.\n"
      ]
    },
    {
      "cell_type": "code",
      "execution_count": null,
      "metadata": {},
      "outputs": [],
      "source": [
        "import sys\n",
        "import os\n",
        "import pandas as pd\n",
        "from datetime import datetime\n",
        "\n",
        "# Add utils to path\n",
        "sys.path.append('../../utils')\n",
        "from snowflake_connection import SnowflakeHook\n",
        "\n",
        "print(f\"Analysis started at: {datetime.now()}\")\n"
      ]
    },
    {
      "cell_type": "code",
      "execution_count": null,
      "metadata": {},
      "outputs": [],
      "source": [
        "# Read the SQL query\n",
        "with open('yoy.sql', 'r') as f:\n",
        "    sql_query = f.read()\n",
        "\n",
        "print(\"SQL Query loaded successfully\")\n",
        "print(f\"Query length: {len(sql_query)} characters\")\n"
      ]
    },
    {
      "cell_type": "code",
      "execution_count": null,
      "metadata": {},
      "outputs": [],
      "source": [
        "# Initialize Snowflake connection\n",
        "snowhook = SnowflakeHook()\n",
        "print(\"Snowflake connection initialized\")\n"
      ]
    },
    {
      "cell_type": "code",
      "execution_count": null,
      "metadata": {},
      "outputs": [],
      "source": [
        "# Split the query into separate statements\n",
        "query_parts = sql_query.split(';')\n",
        "query_parts = [part.strip() for part in query_parts if part.strip()]\n",
        "\n",
        "print(\"Executing SQL query in parts...\")\n",
        "print(\"This may take a few minutes due to the large dataset and aggregations...\")\n",
        "\n",
        "try:\n",
        "    # Execute the CREATE TABLE statement\n",
        "    create_table_query = query_parts[0] + ';'\n",
        "    print(\"Step 1: Creating table...\")\n",
        "    snowhook.query_snowflake(create_table_query, method='cursor')\n",
        "    print(\"Table created successfully!\")\n",
        "    \n",
        "    # Execute the GRANT statement\n",
        "    grant_query = query_parts[1] + ';'\n",
        "    print(\"Step 2: Granting permissions...\")\n",
        "    snowhook.query_snowflake(grant_query, method='cursor')\n",
        "    print(\"Permissions granted successfully!\")\n",
        "    \n",
        "    # Execute the SELECT statement to get results\n",
        "    select_query = query_parts[2]\n",
        "    print(\"Step 3: Fetching results...\")\n",
        "    df = snowhook.query_snowflake(select_query, method='pandas')\n",
        "    print(f\"Query executed successfully!\")\n",
        "    print(f\"Results shape: {df.shape}\")\n",
        "    \n",
        "except Exception as e:\n",
        "    print(f\"Error executing query: {str(e)}\")\n",
        "    raise\n"
      ]
    },
    {
      "cell_type": "code",
      "execution_count": null,
      "metadata": {},
      "outputs": [],
      "source": [
        "# Display basic info about the results\n",
        "print(\"=== QUERY RESULTS SUMMARY ===\")\n",
        "print(f\"Total cities analyzed: {len(df)}\")\n",
        "print(f\"Columns: {list(df.columns)}\")\n",
        "print(\"\\nFirst 10 rows:\")\n",
        "df.head(10)\n"
      ]
    },
    {
      "cell_type": "code",
      "execution_count": null,
      "metadata": {},
      "outputs": [],
      "source": [
        "# Show summary statistics\n",
        "print(\"=== SUMMARY STATISTICS ===\")\n",
        "print(\"\\nDescriptive statistics for numeric columns:\")\n",
        "df.describe()\n"
      ]
    },
    {
      "cell_type": "code",
      "execution_count": null,
      "metadata": {},
      "outputs": [],
      "source": [
        "# Show top 20 cities by YoY growth\n",
        "print(\"=== TOP 20 CITIES BY YOY GROWTH ===\")\n",
        "top_yoy = df.nlargest(20, 'YOY')\n",
        "print(top_yoy[['CITY_STATE', 'APPS_18_PLUS_AS_OF_H1_2024', 'APPS_18_PLUS_AS_OF_H2_2025', 'YOY']].to_string(index=False))\n"
      ]
    },
    {
      "cell_type": "code",
      "execution_count": null,
      "metadata": {},
      "outputs": [],
      "source": [
        "# Show bottom 20 cities by YoY growth\n",
        "print(\"=== BOTTOM 20 CITIES BY YOY GROWTH ===\")\n",
        "bottom_yoy = df.nsmallest(20, 'YOY')\n",
        "print(bottom_yoy[['CITY_STATE', 'APPS_18_PLUS_AS_OF_H1_2024', 'APPS_18_PLUS_AS_OF_H2_2025', 'YOY']].to_string(index=False))\n"
      ]
    },
    {
      "cell_type": "code",
      "execution_count": null,
      "metadata": {},
      "outputs": [],
      "source": [
        "# Show cities with highest absolute numbers\n",
        "print(\"=== TOP 20 CITIES BY TOTAL LIFETIME APPLICATIONS ===\")\n",
        "top_absolute = df.nlargest(20, 'APPS_18PLUS')\n",
        "print(top_absolute[['CITY_STATE', 'APPS_18PLUS', 'APPS_18_PLUS_AS_OF_H1_2024', 'APPS_18_PLUS_AS_OF_H2_2025', 'YOY']].to_string(index=False))\n"
      ]
    },
    {
      "cell_type": "code",
      "execution_count": null,
      "metadata": {},
      "outputs": [],
      "source": [
        "# Save results to CSV for further analysis\n",
        "output_file = f\"yoy_analysis_results_{datetime.now().strftime('%Y%m%d_%H%M%S')}.csv\"\n",
        "df.to_csv(output_file, index=False)\n",
        "print(f\"\\nResults saved to: {output_file}\")\n",
        "print(f\"Analysis completed at: {datetime.now()}\")\n"
      ]
    }
  ],
  "metadata": {
    "language_info": {
      "name": "python"
    }
  },
  "nbformat": 4,
  "nbformat_minor": 2
}
